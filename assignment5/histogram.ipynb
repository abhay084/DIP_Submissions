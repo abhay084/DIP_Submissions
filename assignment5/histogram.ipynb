{
 "cells": [
  {
   "cell_type": "markdown",
   "metadata": {},
   "source": [
    "Histogram And Histogram Equilization"
   ]
  },
  {
   "cell_type": "code",
   "execution_count": 29,
   "metadata": {},
   "outputs": [],
   "source": [
    "import matplotlib.pyplot as plt\n",
    "import numpy as np"
   ]
  },
  {
   "cell_type": "code",
   "execution_count": 2,
   "metadata": {},
   "outputs": [],
   "source": [
    "img = plt.imread('blur.jpeg')"
   ]
  },
  {
   "cell_type": "code",
   "execution_count": 3,
   "metadata": {},
   "outputs": [
    {
     "data": {
      "text/plain": [
       "array([[[ 8, 18, 20],\n",
       "        [ 8, 18, 20],\n",
       "        [ 8, 18, 20],\n",
       "        ...,\n",
       "        [15, 41, 40],\n",
       "        [ 8, 34, 33],\n",
       "        [ 3, 29, 28]],\n",
       "\n",
       "       [[ 7, 17, 19],\n",
       "        [ 7, 17, 19],\n",
       "        [ 7, 17, 19],\n",
       "        ...,\n",
       "        [16, 42, 41],\n",
       "        [10, 36, 35],\n",
       "        [ 6, 32, 31]],\n",
       "\n",
       "       [[ 6, 16, 18],\n",
       "        [ 6, 16, 18],\n",
       "        [ 6, 16, 18],\n",
       "        ...,\n",
       "        [15, 43, 44],\n",
       "        [10, 38, 39],\n",
       "        [ 8, 36, 37]],\n",
       "\n",
       "       ...,\n",
       "\n",
       "       [[ 8, 13, 16],\n",
       "        [ 8, 13, 16],\n",
       "        [ 8, 13, 16],\n",
       "        ...,\n",
       "        [ 9, 13, 14],\n",
       "        [ 9, 13, 14],\n",
       "        [ 9, 13, 14]],\n",
       "\n",
       "       [[ 8, 13, 16],\n",
       "        [ 8, 13, 16],\n",
       "        [ 8, 13, 16],\n",
       "        ...,\n",
       "        [ 9, 13, 12],\n",
       "        [ 9, 13, 12],\n",
       "        [ 9, 13, 12]],\n",
       "\n",
       "       [[ 8, 13, 16],\n",
       "        [ 8, 13, 16],\n",
       "        [ 8, 13, 16],\n",
       "        ...,\n",
       "        [ 9, 13, 12],\n",
       "        [ 9, 13, 12],\n",
       "        [ 9, 13, 12]]], dtype=uint8)"
      ]
     },
     "execution_count": 3,
     "metadata": {},
     "output_type": "execute_result"
    }
   ],
   "source": [
    "img"
   ]
  },
  {
   "cell_type": "code",
   "execution_count": 4,
   "metadata": {},
   "outputs": [],
   "source": [
    "R,G,B = img[:,:,0],img[:,:,1],img[:,:,2]"
   ]
  },
  {
   "cell_type": "code",
   "execution_count": 5,
   "metadata": {},
   "outputs": [
    {
     "data": {
      "text/plain": [
       "array([[ 8,  8,  8, ..., 15,  8,  3],\n",
       "       [ 7,  7,  7, ..., 16, 10,  6],\n",
       "       [ 6,  6,  6, ..., 15, 10,  8],\n",
       "       ...,\n",
       "       [ 8,  8,  8, ...,  9,  9,  9],\n",
       "       [ 8,  8,  8, ...,  9,  9,  9],\n",
       "       [ 8,  8,  8, ...,  9,  9,  9]], dtype=uint8)"
      ]
     },
     "execution_count": 5,
     "metadata": {},
     "output_type": "execute_result"
    }
   ],
   "source": [
    "R"
   ]
  },
  {
   "cell_type": "code",
   "execution_count": 6,
   "metadata": {},
   "outputs": [],
   "source": [
    "red_histo = [0]*256"
   ]
  },
  {
   "cell_type": "code",
   "execution_count": 7,
   "metadata": {},
   "outputs": [],
   "source": [
    "blu_histo = [0]*256"
   ]
  },
  {
   "cell_type": "code",
   "execution_count": 8,
   "metadata": {},
   "outputs": [],
   "source": [
    "green_histo = [0]*256"
   ]
  },
  {
   "cell_type": "code",
   "execution_count": 9,
   "metadata": {},
   "outputs": [
    {
     "data": {
      "text/plain": [
       "(750, 500)"
      ]
     },
     "execution_count": 9,
     "metadata": {},
     "output_type": "execute_result"
    }
   ],
   "source": [
    "R.shape"
   ]
  },
  {
   "cell_type": "code",
   "execution_count": 10,
   "metadata": {},
   "outputs": [],
   "source": [
    "for i in range(750):\n",
    "    for j in range(500):\n",
    "        red_histo[R[i,j]] = red_histo[R[i,j]] +  1"
   ]
  },
  {
   "cell_type": "code",
   "execution_count": 11,
   "metadata": {},
   "outputs": [
    {
     "data": {
      "text/plain": [
       "(750, 500)"
      ]
     },
     "execution_count": 11,
     "metadata": {},
     "output_type": "execute_result"
    }
   ],
   "source": [
    "G.shape"
   ]
  },
  {
   "cell_type": "code",
   "execution_count": 12,
   "metadata": {},
   "outputs": [],
   "source": [
    "for i in range(750):\n",
    "    for j in range(500):\n",
    "        green_histo[G[i,j]] = green_histo[G[i,j]] + 1"
   ]
  },
  {
   "cell_type": "code",
   "execution_count": 13,
   "metadata": {},
   "outputs": [
    {
     "data": {
      "text/plain": [
       "(750, 500)"
      ]
     },
     "execution_count": 13,
     "metadata": {},
     "output_type": "execute_result"
    }
   ],
   "source": [
    "B.shape"
   ]
  },
  {
   "cell_type": "code",
   "execution_count": 14,
   "metadata": {},
   "outputs": [],
   "source": [
    "for i in range(750):\n",
    "    for j in range(500):\n",
    "        blu_histo[B[i,j]] = blu_histo[B[i,j]] + 1"
   ]
  },
  {
   "cell_type": "code",
   "execution_count": 15,
   "metadata": {},
   "outputs": [
    {
     "data": {
      "image/png": "[encoded data removed]",
      "text/plain": [
       "<Figure size 432x288 with 1 Axes>"
      ]
     },
     "metadata": {
      "needs_background": "light"
     },
     "output_type": "display_data"
    }
   ],
   "source": [
    "plt.plot(blu_histo)\n",
    "plt.show()"
   ]
  },
  {
   "cell_type": "code",
   "execution_count": 16,
   "metadata": {},
   "outputs": [
    {
     "data": {
      "image/png": "[encoded data removed]",
      "text/plain": [
       "<Figure size 432x288 with 1 Axes>"
      ]
     },
     "metadata": {
      "needs_background": "light"
     },
     "output_type": "display_data"
    }
   ],
   "source": [
    "plt.plot(green_histo)\n",
    "plt.show()"
   ]
  },
  {
   "cell_type": "code",
   "execution_count": 26,
   "metadata": {},
   "outputs": [
    {
     "data": {
      "image/png": "[encoded data removed]",
      "text/plain": [
       "<Figure size 432x288 with 1 Axes>"
      ]
     },
     "metadata": {
      "needs_background": "light"
     },
     "output_type": "display_data"
    }
   ],
   "source": [
    "plt.plot(red_histo)\n",
    "plt.show()"
   ]
  },
  {
   "cell_type": "code",
   "execution_count": 27,
   "metadata": {},
   "outputs": [
    {
     "data": {
      "image/png": "[encoded data removed]",
      "text/plain": [
       "<Figure size 432x288 with 1 Axes>"
      ]
     },
     "metadata": {
      "needs_background": "light"
     },
     "output_type": "display_data"
    }
   ],
   "source": [
    "plt.plot(red_histo)\n",
    "plt.plot(green_histo)\n",
    "plt.plot(blu_histo)\n",
    "plt.show()"
   ]
  },
  {
   "cell_type": "code",
   "execution_count": 35,
   "metadata": {},
   "outputs": [],
   "source": [
    "cdf= [0] * 256"
   ]
  },
  {
   "cell_type": "code",
   "execution_count": null,
   "metadata": {},
   "outputs": [],
   "source": []
  }
 ],
 "metadata": {
  "interpreter": {
   "hash": "4823ac0f73e6f43cff2369f93c64e53b715f850adbb7c1fdc597e518a362f12a"
  },
  "kernelspec": {
   "display_name": "Python 3.9.10 64-bit (windows store)",
   "language": "python",
   "name": "python3"
  },
  "language_info": {
   "codemirror_mode": {
    "name": "ipython",
    "version": 3
   },
   "file_extension": ".py",
   "mimetype": "text/x-python",
   "name": "python",
   "nbconvert_exporter": "python",
   "pygments_lexer": "ipython3",
   "version": "3.9.10"
  },
  "orig_nbformat": 4
 },
 "nbformat": 4,
 "nbformat_minor": 2
}
