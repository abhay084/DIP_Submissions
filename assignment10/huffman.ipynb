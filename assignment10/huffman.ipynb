{
 "cells": [
  {
   "cell_type": "code",
   "execution_count": 18,
   "metadata": {},
   "outputs": [],
   "source": [
    "# huffman coding is the lossless compression algorithm used to compress the data"
   ]
  },
  {
   "cell_type": "code",
   "execution_count": 19,
   "metadata": {},
   "outputs": [
    {
     "data": {
      "text/plain": [
       "' \\n The algorithm follows three step process:\\n 1. probability calculation and ordering the symbols\\n 2. Binary tree transformation\\n 3. Assigning codes to the symbols\\n'"
      ]
     },
     "execution_count": 19,
     "metadata": {},
     "output_type": "execute_result"
    }
   ],
   "source": [
    "''' \n",
    " The algorithm follows three step process:\n",
    " 1. probability calculation and ordering the symbols\n",
    " 2. Binary tree transformation\n",
    " 3. Assigning codes to the symbols\n",
    "'''"
   ]
  },
  {
   "cell_type": "code",
   "execution_count": 20,
   "metadata": {},
   "outputs": [],
   "source": [
    "# probability calculation and ordering the symbols\n",
    "\n"
   ]
  },
  {
   "cell_type": "code",
   "execution_count": 21,
   "metadata": {},
   "outputs": [],
   "source": [
    "data=\"AAAAAAABCCCCCCDDEEEEE\"\n"
   ]
  },
  {
   "cell_type": "code",
   "execution_count": 22,
   "metadata": {},
   "outputs": [
    {
     "data": {
      "text/plain": [
       "'AAAAAAABCCCCCCDDEEEEE'"
      ]
     },
     "execution_count": 22,
     "metadata": {},
     "output_type": "execute_result"
    }
   ],
   "source": [
    "data"
   ]
  },
  {
   "cell_type": "code",
   "execution_count": 23,
   "metadata": {},
   "outputs": [],
   "source": [
    "class Node:\n",
    "    def __init__(self,prob,symbol,left=None,right=None):\n",
    "        # probability of symbol\n",
    "        self.prob=prob\n",
    "        # symbol\n",
    "        self.symbol=symbol\n",
    "        # left node\n",
    "        self.left=left\n",
    "        # right node\n",
    "        self.right=right\n",
    "        # tree direction(0/1)\n",
    "        self.code=''\n",
    "        "
   ]
  },
  {
   "cell_type": "code",
   "execution_count": 24,
   "metadata": {},
   "outputs": [],
   "source": [
    "codes=dict()"
   ]
  },
  {
   "cell_type": "code",
   "execution_count": 25,
   "metadata": {},
   "outputs": [],
   "source": [
    "def Calculate_Codes(node, val=''):\n",
    "    # huffman code for current node\n",
    "    newVal = val + str(node.code)\n",
    "\n",
    "    if(node.left):\n",
    "        Calculate_Codes(node.left, newVal)\n",
    "    if(node.right):\n",
    "        Calculate_Codes(node.right, newVal)\n",
    "\n",
    "    if(not node.left and not node.right):\n",
    "        codes[node.symbol] = newVal\n",
    "         \n",
    "    return codes "
   ]
  },
  {
   "cell_type": "code",
   "execution_count": 26,
   "metadata": {},
   "outputs": [],
   "source": [
    "# function to calculate the probabilities of symbols in given data\n",
    "def Calculate_Probability(data):\n",
    "    symbols = dict()\n",
    "    for element in data:\n",
    "        if symbols.get(element) == None:\n",
    "            symbols[element] = 1\n",
    "        else: \n",
    "            symbols[element] += 1     \n",
    "    return symbols"
   ]
  },
  {
   "cell_type": "code",
   "execution_count": 27,
   "metadata": {},
   "outputs": [],
   "source": [
    "# helper function to obtain the encoded output\n",
    "def Output_Encoded(data, coding):\n",
    "    encoding_output = []\n",
    "    for c in data:\n",
    "      #  print(coding[c], end = '')\n",
    "        encoding_output.append(coding[c])\n",
    "        \n",
    "    string = ''.join([str(item) for item in encoding_output])    \n",
    "    return string"
   ]
  },
  {
   "cell_type": "code",
   "execution_count": 28,
   "metadata": {},
   "outputs": [],
   "source": [
    "# function to calculate the space difference between compressed and non compressed data\"\n",
    "def Total_Gain(data, coding):\n",
    "    before_compression = len(data) * 8 # total bit space to stor the data before compression\n",
    "    after_compression = 0\n",
    "    symbols = coding.keys()\n",
    "    for symbol in symbols:\n",
    "        count = data.count(symbol)\n",
    "        after_compression += count * len(coding[symbol]) #calculate how many bit is required for that symbol in total\n",
    "    print(\"Space usage before compression (in bits):\", before_compression)    \n",
    "    print(\"Space usage after compression (in bits):\",  after_compression) "
   ]
  },
  {
   "cell_type": "code",
   "execution_count": 29,
   "metadata": {},
   "outputs": [],
   "source": [
    "def Huffman_Encoding(data):\n",
    "    symbol_with_probs = Calculate_Probability(data)\n",
    "    symbols = symbol_with_probs.keys()\n",
    "    probabilities = symbol_with_probs.values()\n",
    "    print(\"symbols: \", symbols)\n",
    "    print(\"probabilities: \", probabilities)\n",
    "    \n",
    "    nodes = []\n",
    "    \n",
    "    # converting symbols and probabilities into huffman tree nodes\n",
    "    for symbol in symbols:\n",
    "        nodes.append(Node(symbol_with_probs.get(symbol), symbol))\n",
    "    \n",
    "    while len(nodes) > 1:\n",
    "        # sort all the nodes in ascending order based on their probability\n",
    "        nodes = sorted(nodes, key=lambda x: x.prob)\n",
    "        # for node in nodes:  \n",
    "        #      print(node.symbol, node.prob)\n",
    "    \n",
    "        # pick 2 smallest nodes\n",
    "        right = nodes[0]\n",
    "        left = nodes[1]\n",
    "    \n",
    "        left.code = 0\n",
    "        right.code = 1\n",
    "    \n",
    "        # combine the 2 smallest nodes to create new node\n",
    "        newNode = Node(left.prob+right.prob, left.symbol+right.symbol, left, right)\n",
    "    \n",
    "        nodes.remove(left)\n",
    "        nodes.remove(right)\n",
    "        nodes.append(newNode)\n",
    "            \n",
    "    huffman_encoding = Calculate_Codes(nodes[0])\n",
    "    print(\"symbols with codes\", huffman_encoding)\n",
    "    Total_Gain(data, huffman_encoding)\n",
    "    encoded_output = Output_Encoded(data,huffman_encoding)\n",
    "    return encoded_output, nodes[0]  "
   ]
  },
  {
   "cell_type": "code",
   "execution_count": 30,
   "metadata": {},
   "outputs": [],
   "source": [
    "def Huffman_Decoding(encoded_data, huffman_tree):\n",
    "    tree_head = huffman_tree\n",
    "    decoded_output = []\n",
    "    for x in encoded_data:\n",
    "        if x == '1':\n",
    "            huffman_tree = huffman_tree.right   \n",
    "        elif x == '0':\n",
    "            huffman_tree = huffman_tree.left\n",
    "        try:\n",
    "            if huffman_tree.left.symbol == None and huffman_tree.right.symbol == None:\n",
    "                pass\n",
    "        except AttributeError:\n",
    "            decoded_output.append(huffman_tree.symbol)\n",
    "            huffman_tree = tree_head\n",
    "        \n",
    "    string = ''.join([str(item) for item in decoded_output])\n",
    "    return string    "
   ]
  },
  {
   "cell_type": "code",
   "execution_count": 31,
   "metadata": {},
   "outputs": [
    {
     "name": "stdout",
     "output_type": "stream",
     "text": [
      "symbols:  dict_keys(['A', 'B', 'C', 'D', 'E'])\n",
      "probabilities:  dict_values([7, 1, 6, 2, 5])\n",
      "symbols with codes {'A': '00', 'C': '01', 'E': '10', 'D': '110', 'B': '111'}\n",
      "Space usage before compression (in bits): 168\n",
      "Space usage after compression (in bits): 45\n"
     ]
    }
   ],
   "source": [
    "encoding,tree=Huffman_Encoding(data)"
   ]
  },
  {
   "cell_type": "code",
   "execution_count": 32,
   "metadata": {},
   "outputs": [
    {
     "name": "stdout",
     "output_type": "stream",
     "text": [
      "Encoded output 000000000000001110101010101011101101010101010\n",
      "Decoded Output AAAAAAABCCCCCCDDEEEEE\n"
     ]
    }
   ],
   "source": [
    "print(\"Encoded output\", encoding)\n",
    "print(\"Decoded Output\", Huffman_Decoding(encoding,tree))"
   ]
  },
  {
   "cell_type": "code",
   "execution_count": null,
   "metadata": {},
   "outputs": [],
   "source": []
  }
 ],
 "metadata": {
  "interpreter": {
   "hash": "94dfd0829861ea723591b3001b7b8d6efd29c21741fffd6b6a162c01382c010b"
  },
  "kernelspec": {
   "display_name": "Python 3.10.2 64-bit",
   "language": "python",
   "name": "python3"
  },
  "language_info": {
   "codemirror_mode": {
    "name": "ipython",
    "version": 3
   },
   "file_extension": ".py",
   "mimetype": "text/x-python",
   "name": "python",
   "nbconvert_exporter": "python",
   "pygments_lexer": "ipython3",
   "version": "3.10.2"
  },
  "orig_nbformat": 4
 },
 "nbformat": 4,
 "nbformat_minor": 2
}
